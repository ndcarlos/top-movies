{
 "cells": [
  {
   "cell_type": "markdown",
   "id": "3250c687",
   "metadata": {},
   "source": [
    "# Top Rated Movies"
   ]
  },
  {
   "cell_type": "code",
   "execution_count": 13,
   "id": "e43855cd",
   "metadata": {},
   "outputs": [],
   "source": [
    "import pandas as pd\n",
    "import seaborn as sns\n",
    "import matplotlib.pyplot as plt\n",
    "import numpy as np\n",
    "from scipy.stats import norm"
   ]
  },
  {
   "cell_type": "code",
   "execution_count": 3,
   "id": "4145088a",
   "metadata": {},
   "outputs": [],
   "source": [
    "# install chunk"
   ]
  },
  {
   "cell_type": "code",
   "execution_count": 10,
   "id": "5fb3bb0b",
   "metadata": {},
   "outputs": [
    {
     "data": {
      "text/html": [
       "<div>\n",
       "<style scoped>\n",
       "    .dataframe tbody tr th:only-of-type {\n",
       "        vertical-align: middle;\n",
       "    }\n",
       "\n",
       "    .dataframe tbody tr th {\n",
       "        vertical-align: top;\n",
       "    }\n",
       "\n",
       "    .dataframe thead th {\n",
       "        text-align: right;\n",
       "    }\n",
       "</style>\n",
       "<table border=\"1\" class=\"dataframe\">\n",
       "  <thead>\n",
       "    <tr style=\"text-align: right;\">\n",
       "      <th></th>\n",
       "      <th>Unnamed: 0</th>\n",
       "      <th>id</th>\n",
       "      <th>title</th>\n",
       "      <th>overview</th>\n",
       "      <th>release_date</th>\n",
       "      <th>popularity</th>\n",
       "      <th>vote_average</th>\n",
       "      <th>vote_count</th>\n",
       "    </tr>\n",
       "  </thead>\n",
       "  <tbody>\n",
       "    <tr>\n",
       "      <th>0</th>\n",
       "      <td>0</td>\n",
       "      <td>960258</td>\n",
       "      <td>Shark Bait</td>\n",
       "      <td>A group of friends enjoying a weekend steal a ...</td>\n",
       "      <td>2022-05-13</td>\n",
       "      <td>34.679</td>\n",
       "      <td>5.697</td>\n",
       "      <td>318</td>\n",
       "    </tr>\n",
       "    <tr>\n",
       "      <th>1</th>\n",
       "      <td>1</td>\n",
       "      <td>11067</td>\n",
       "      <td>Major League II</td>\n",
       "      <td>After losing in the ALCS the year before, the ...</td>\n",
       "      <td>1994-03-30</td>\n",
       "      <td>16.374</td>\n",
       "      <td>5.697</td>\n",
       "      <td>320</td>\n",
       "    </tr>\n",
       "    <tr>\n",
       "      <th>2</th>\n",
       "      <td>2</td>\n",
       "      <td>20856</td>\n",
       "      <td>Aliens in the Attic</td>\n",
       "      <td>A group of kids must protect their vacation ho...</td>\n",
       "      <td>2009-07-30</td>\n",
       "      <td>20.437</td>\n",
       "      <td>5.696</td>\n",
       "      <td>973</td>\n",
       "    </tr>\n",
       "    <tr>\n",
       "      <th>3</th>\n",
       "      <td>3</td>\n",
       "      <td>14098</td>\n",
       "      <td>100 Feet</td>\n",
       "      <td>After Marnie Watson kills her abusive husband ...</td>\n",
       "      <td>2008-07-22</td>\n",
       "      <td>18.927</td>\n",
       "      <td>5.696</td>\n",
       "      <td>304</td>\n",
       "    </tr>\n",
       "    <tr>\n",
       "      <th>4</th>\n",
       "      <td>4</td>\n",
       "      <td>11398</td>\n",
       "      <td>The Art of War</td>\n",
       "      <td>Neil Shaw is both agent and weapon - a critica...</td>\n",
       "      <td>2000-08-25</td>\n",
       "      <td>12.022</td>\n",
       "      <td>5.696</td>\n",
       "      <td>477</td>\n",
       "    </tr>\n",
       "    <tr>\n",
       "      <th>...</th>\n",
       "      <td>...</td>\n",
       "      <td>...</td>\n",
       "      <td>...</td>\n",
       "      <td>...</td>\n",
       "      <td>...</td>\n",
       "      <td>...</td>\n",
       "      <td>...</td>\n",
       "      <td>...</td>\n",
       "    </tr>\n",
       "    <tr>\n",
       "      <th>8575</th>\n",
       "      <td>8575</td>\n",
       "      <td>10723</td>\n",
       "      <td>Bulletproof</td>\n",
       "      <td>An undercover police officer named Rock Keats ...</td>\n",
       "      <td>1996-09-06</td>\n",
       "      <td>12.428</td>\n",
       "      <td>5.700</td>\n",
       "      <td>569</td>\n",
       "    </tr>\n",
       "    <tr>\n",
       "      <th>8576</th>\n",
       "      <td>8576</td>\n",
       "      <td>397422</td>\n",
       "      <td>Rough Night</td>\n",
       "      <td>Five best friends from college reunite 10 year...</td>\n",
       "      <td>2017-06-15</td>\n",
       "      <td>19.368</td>\n",
       "      <td>5.688</td>\n",
       "      <td>1963</td>\n",
       "    </tr>\n",
       "    <tr>\n",
       "      <th>8577</th>\n",
       "      <td>8577</td>\n",
       "      <td>70435</td>\n",
       "      <td>Haywire</td>\n",
       "      <td>A black ops soldier seeks payback after she is...</td>\n",
       "      <td>2011-11-01</td>\n",
       "      <td>17.259</td>\n",
       "      <td>5.700</td>\n",
       "      <td>1333</td>\n",
       "    </tr>\n",
       "    <tr>\n",
       "      <th>8578</th>\n",
       "      <td>8578</td>\n",
       "      <td>36599</td>\n",
       "      <td>Prom Night</td>\n",
       "      <td>At a high school senior prom, a masked killer ...</td>\n",
       "      <td>1980-07-18</td>\n",
       "      <td>15.854</td>\n",
       "      <td>5.700</td>\n",
       "      <td>414</td>\n",
       "    </tr>\n",
       "    <tr>\n",
       "      <th>8579</th>\n",
       "      <td>8579</td>\n",
       "      <td>23410</td>\n",
       "      <td>The Thaw</td>\n",
       "      <td>At a remote Arctic research station, four ecol...</td>\n",
       "      <td>2009-08-30</td>\n",
       "      <td>18.424</td>\n",
       "      <td>5.689</td>\n",
       "      <td>304</td>\n",
       "    </tr>\n",
       "  </tbody>\n",
       "</table>\n",
       "<p>8580 rows × 8 columns</p>\n",
       "</div>"
      ],
      "text/plain": [
       "      Unnamed: 0      id                title  \\\n",
       "0              0  960258           Shark Bait   \n",
       "1              1   11067      Major League II   \n",
       "2              2   20856  Aliens in the Attic   \n",
       "3              3   14098             100 Feet   \n",
       "4              4   11398       The Art of War   \n",
       "...          ...     ...                  ...   \n",
       "8575        8575   10723          Bulletproof   \n",
       "8576        8576  397422          Rough Night   \n",
       "8577        8577   70435              Haywire   \n",
       "8578        8578   36599           Prom Night   \n",
       "8579        8579   23410             The Thaw   \n",
       "\n",
       "                                               overview release_date  \\\n",
       "0     A group of friends enjoying a weekend steal a ...   2022-05-13   \n",
       "1     After losing in the ALCS the year before, the ...   1994-03-30   \n",
       "2     A group of kids must protect their vacation ho...   2009-07-30   \n",
       "3     After Marnie Watson kills her abusive husband ...   2008-07-22   \n",
       "4     Neil Shaw is both agent and weapon - a critica...   2000-08-25   \n",
       "...                                                 ...          ...   \n",
       "8575  An undercover police officer named Rock Keats ...   1996-09-06   \n",
       "8576  Five best friends from college reunite 10 year...   2017-06-15   \n",
       "8577  A black ops soldier seeks payback after she is...   2011-11-01   \n",
       "8578  At a high school senior prom, a masked killer ...   1980-07-18   \n",
       "8579  At a remote Arctic research station, four ecol...   2009-08-30   \n",
       "\n",
       "      popularity  vote_average  vote_count  \n",
       "0         34.679         5.697         318  \n",
       "1         16.374         5.697         320  \n",
       "2         20.437         5.696         973  \n",
       "3         18.927         5.696         304  \n",
       "4         12.022         5.696         477  \n",
       "...          ...           ...         ...  \n",
       "8575      12.428         5.700         569  \n",
       "8576      19.368         5.688        1963  \n",
       "8577      17.259         5.700        1333  \n",
       "8578      15.854         5.700         414  \n",
       "8579      18.424         5.689         304  \n",
       "\n",
       "[8580 rows x 8 columns]"
      ]
     },
     "execution_count": 10,
     "metadata": {},
     "output_type": "execute_result"
    }
   ],
   "source": [
    "dat = pd.read_csv('/Users/home/Documents/Projects/Python/Top Rated Movie 10.24/movie.csv')\n",
    "dat"
   ]
  },
  {
   "cell_type": "code",
   "execution_count": 15,
   "id": "9b3499a5",
   "metadata": {},
   "outputs": [
    {
     "name": "stdout",
     "output_type": "stream",
     "text": [
      "<class 'pandas.core.frame.DataFrame'>\n",
      "RangeIndex: 8580 entries, 0 to 8579\n",
      "Data columns (total 8 columns):\n",
      " #   Column        Non-Null Count  Dtype  \n",
      "---  ------        --------------  -----  \n",
      " 0   Unnamed: 0    8580 non-null   int64  \n",
      " 1   id            8580 non-null   int64  \n",
      " 2   title         8580 non-null   object \n",
      " 3   overview      8579 non-null   object \n",
      " 4   release_date  8580 non-null   object \n",
      " 5   popularity    8580 non-null   float64\n",
      " 6   vote_average  8580 non-null   float64\n",
      " 7   vote_count    8580 non-null   int64  \n",
      "dtypes: float64(2), int64(3), object(3)\n",
      "memory usage: 536.4+ KB\n",
      "None\n"
     ]
    }
   ],
   "source": [
    "print(dat.info())"
   ]
  },
  {
   "cell_type": "code",
   "execution_count": 16,
   "id": "f3095366",
   "metadata": {},
   "outputs": [
    {
     "data": {
      "text/plain": [
       "count    8580.000000\n",
       "mean       29.863904\n",
       "std        53.930147\n",
       "min         0.023000\n",
       "25%        14.722750\n",
       "50%        20.945500\n",
       "75%        32.027750\n",
       "max      3011.577000\n",
       "Name: popularity, dtype: float64"
      ]
     },
     "execution_count": 16,
     "metadata": {},
     "output_type": "execute_result"
    }
   ],
   "source": [
    "dat['popularity'].describe()"
   ]
  },
  {
   "cell_type": "markdown",
   "id": "b252a2fa",
   "metadata": {},
   "source": [
    "###### not sure about the histogram below. need a better understanding of what the meta data is. definitions"
   ]
  },
  {
   "cell_type": "code",
   "execution_count": 14,
   "id": "1ce7d648",
   "metadata": {},
   "outputs": [
    {
     "data": {
      "image/png": "[encoded data removed]",
      "text/plain": [
       "<Figure size 640x480 with 1 Axes>"
      ]
     },
     "metadata": {},
     "output_type": "display_data"
    }
   ],
   "source": [
    "# Popularity Histogram\n",
    "\n",
    "pop_filter = dat[(dat['popularity'] >= 0) & (dat['popularity'] <= 200)]\n",
    "sns.histplot(pop_filter['popularity'], bins = 50)\n",
    "plt.show()"
   ]
  },
  {
   "cell_type": "code",
   "execution_count": 8,
   "id": "d0de665d",
   "metadata": {},
   "outputs": [
    {
     "data": {
      "text/plain": [
       "count    8580.000000\n",
       "mean        6.804031\n",
       "std         0.628188\n",
       "min         5.688000\n",
       "25%         6.300000\n",
       "50%         6.769000\n",
       "75%         7.272000\n",
       "max         8.706000\n",
       "Name: vote_average, dtype: float64"
      ]
     },
     "execution_count": 8,
     "metadata": {},
     "output_type": "execute_result"
    }
   ],
   "source": [
    "dat['vote_average'].describe()"
   ]
  },
  {
   "cell_type": "code",
   "execution_count": 38,
   "id": "33413a13",
   "metadata": {},
   "outputs": [
    {
     "data": {
      "image/png": "[encoded data removed]",
      "text/plain": [
       "<Figure size 640x480 with 1 Axes>"
      ]
     },
     "metadata": {},
     "output_type": "display_data"
    }
   ],
   "source": [
    "sns.histplot(dat, x = 'vote_average', bins = 10)\n",
    "plt.show()"
   ]
  },
  {
   "cell_type": "code",
   "execution_count": 41,
   "id": "12d14597",
   "metadata": {},
   "outputs": [
    {
     "data": {
      "text/plain": [
       "[<matplotlib.lines.Line2D at 0x7f91dba67670>]"
      ]
     },
     "execution_count": 41,
     "metadata": {},
     "output_type": "execute_result"
    },
    {
     "data": {
      "image/png": "[encoded data removed]",
      "text/plain": [
       "<Figure size 640x480 with 1 Axes>"
      ]
     },
     "metadata": {},
     "output_type": "display_data"
    }
   ],
   "source": [
    "# Ratings Histogram\n",
    "\n",
    "mu, std = norm.fit(dat['vote_average'])\n",
    "\n",
    "plt.hist(dat['vote_average'], bins = 10, density = True)\n",
    "xmin, xmax = plt.xlim()\n",
    "x = np.linspace(xmin, xmax, 100)\n",
    "p = norm.pdf(x, mu, std)\n",
    "plt.plot(x, p, 'k', linewidth = 2)\n",
    "\n"
   ]
  },
  {
   "cell_type": "markdown",
   "id": "c712ed59",
   "metadata": {},
   "source": [
    "##### no bins! maybe something to mention in analysis"
   ]
  },
  {
   "cell_type": "markdown",
   "id": "c6a12026",
   "metadata": {},
   "source": [
    "### Most popular _____"
   ]
  },
  {
   "cell_type": "code",
   "execution_count": 47,
   "id": "865c138e",
   "metadata": {},
   "outputs": [
    {
     "data": {
      "text/html": [
       "<div>\n",
       "<style scoped>\n",
       "    .dataframe tbody tr th:only-of-type {\n",
       "        vertical-align: middle;\n",
       "    }\n",
       "\n",
       "    .dataframe tbody tr th {\n",
       "        vertical-align: top;\n",
       "    }\n",
       "\n",
       "    .dataframe thead th {\n",
       "        text-align: right;\n",
       "    }\n",
       "</style>\n",
       "<table border=\"1\" class=\"dataframe\">\n",
       "  <thead>\n",
       "    <tr style=\"text-align: right;\">\n",
       "      <th></th>\n",
       "      <th>Unnamed: 0</th>\n",
       "      <th>id</th>\n",
       "      <th>title</th>\n",
       "      <th>overview</th>\n",
       "      <th>release_date</th>\n",
       "      <th>popularity</th>\n",
       "      <th>vote_average</th>\n",
       "      <th>vote_count</th>\n",
       "    </tr>\n",
       "  </thead>\n",
       "  <tbody>\n",
       "    <tr>\n",
       "      <th>20</th>\n",
       "      <td>20</td>\n",
       "      <td>278</td>\n",
       "      <td>The Shawshank Redemption</td>\n",
       "      <td>Imprisoned in the 1940s for the double murder ...</td>\n",
       "      <td>1994-09-23</td>\n",
       "      <td>191.303</td>\n",
       "      <td>8.706</td>\n",
       "      <td>26757</td>\n",
       "    </tr>\n",
       "    <tr>\n",
       "      <th>21</th>\n",
       "      <td>21</td>\n",
       "      <td>238</td>\n",
       "      <td>The Godfather</td>\n",
       "      <td>Spanning the years 1945 to 1955, a chronicle o...</td>\n",
       "      <td>1972-03-14</td>\n",
       "      <td>152.632</td>\n",
       "      <td>8.690</td>\n",
       "      <td>20306</td>\n",
       "    </tr>\n",
       "    <tr>\n",
       "      <th>22</th>\n",
       "      <td>22</td>\n",
       "      <td>240</td>\n",
       "      <td>The Godfather Part II</td>\n",
       "      <td>In the continuing saga of the Corleone crime f...</td>\n",
       "      <td>1974-12-20</td>\n",
       "      <td>90.368</td>\n",
       "      <td>8.574</td>\n",
       "      <td>12244</td>\n",
       "    </tr>\n",
       "    <tr>\n",
       "      <th>23</th>\n",
       "      <td>23</td>\n",
       "      <td>424</td>\n",
       "      <td>Schindler's List</td>\n",
       "      <td>The true story of how businessman Oskar Schind...</td>\n",
       "      <td>1993-12-15</td>\n",
       "      <td>92.258</td>\n",
       "      <td>8.565</td>\n",
       "      <td>15659</td>\n",
       "    </tr>\n",
       "    <tr>\n",
       "      <th>24</th>\n",
       "      <td>24</td>\n",
       "      <td>389</td>\n",
       "      <td>12 Angry Men</td>\n",
       "      <td>The defense and the prosecution have rested an...</td>\n",
       "      <td>1957-04-10</td>\n",
       "      <td>70.095</td>\n",
       "      <td>8.544</td>\n",
       "      <td>8490</td>\n",
       "    </tr>\n",
       "    <tr>\n",
       "      <th>25</th>\n",
       "      <td>25</td>\n",
       "      <td>129</td>\n",
       "      <td>Spirited Away</td>\n",
       "      <td>A young girl, Chihiro, becomes trapped in a st...</td>\n",
       "      <td>2001-07-20</td>\n",
       "      <td>139.663</td>\n",
       "      <td>8.535</td>\n",
       "      <td>16288</td>\n",
       "    </tr>\n",
       "    <tr>\n",
       "      <th>26</th>\n",
       "      <td>26</td>\n",
       "      <td>19404</td>\n",
       "      <td>Dilwale Dulhania Le Jayenge</td>\n",
       "      <td>Raj is a rich, carefree, happy-go-lucky second...</td>\n",
       "      <td>1995-10-20</td>\n",
       "      <td>53.491</td>\n",
       "      <td>8.531</td>\n",
       "      <td>4422</td>\n",
       "    </tr>\n",
       "    <tr>\n",
       "      <th>27</th>\n",
       "      <td>27</td>\n",
       "      <td>155</td>\n",
       "      <td>The Dark Knight</td>\n",
       "      <td>Batman raises the stakes in his war on crime. ...</td>\n",
       "      <td>2008-07-16</td>\n",
       "      <td>166.733</td>\n",
       "      <td>8.516</td>\n",
       "      <td>32494</td>\n",
       "    </tr>\n",
       "    <tr>\n",
       "      <th>28</th>\n",
       "      <td>28</td>\n",
       "      <td>496243</td>\n",
       "      <td>Parasite</td>\n",
       "      <td>All unemployed, Ki-taek's family takes peculia...</td>\n",
       "      <td>2019-05-30</td>\n",
       "      <td>103.416</td>\n",
       "      <td>8.507</td>\n",
       "      <td>17981</td>\n",
       "    </tr>\n",
       "    <tr>\n",
       "      <th>29</th>\n",
       "      <td>29</td>\n",
       "      <td>497</td>\n",
       "      <td>The Green Mile</td>\n",
       "      <td>A supernatural tale set on death row in a Sout...</td>\n",
       "      <td>1999-12-10</td>\n",
       "      <td>97.284</td>\n",
       "      <td>8.507</td>\n",
       "      <td>17182</td>\n",
       "    </tr>\n",
       "  </tbody>\n",
       "</table>\n",
       "</div>"
      ],
      "text/plain": [
       "    Unnamed: 0      id                        title  \\\n",
       "20          20     278     The Shawshank Redemption   \n",
       "21          21     238                The Godfather   \n",
       "22          22     240        The Godfather Part II   \n",
       "23          23     424             Schindler's List   \n",
       "24          24     389                 12 Angry Men   \n",
       "25          25     129                Spirited Away   \n",
       "26          26   19404  Dilwale Dulhania Le Jayenge   \n",
       "27          27     155              The Dark Knight   \n",
       "28          28  496243                     Parasite   \n",
       "29          29     497               The Green Mile   \n",
       "\n",
       "                                             overview release_date  \\\n",
       "20  Imprisoned in the 1940s for the double murder ...   1994-09-23   \n",
       "21  Spanning the years 1945 to 1955, a chronicle o...   1972-03-14   \n",
       "22  In the continuing saga of the Corleone crime f...   1974-12-20   \n",
       "23  The true story of how businessman Oskar Schind...   1993-12-15   \n",
       "24  The defense and the prosecution have rested an...   1957-04-10   \n",
       "25  A young girl, Chihiro, becomes trapped in a st...   2001-07-20   \n",
       "26  Raj is a rich, carefree, happy-go-lucky second...   1995-10-20   \n",
       "27  Batman raises the stakes in his war on crime. ...   2008-07-16   \n",
       "28  All unemployed, Ki-taek's family takes peculia...   2019-05-30   \n",
       "29  A supernatural tale set on death row in a Sout...   1999-12-10   \n",
       "\n",
       "    popularity  vote_average  vote_count  \n",
       "20     191.303         8.706       26757  \n",
       "21     152.632         8.690       20306  \n",
       "22      90.368         8.574       12244  \n",
       "23      92.258         8.565       15659  \n",
       "24      70.095         8.544        8490  \n",
       "25     139.663         8.535       16288  \n",
       "26      53.491         8.531        4422  \n",
       "27     166.733         8.516       32494  \n",
       "28     103.416         8.507       17981  \n",
       "29      97.284         8.507       17182  "
      ]
     },
     "execution_count": 47,
     "metadata": {},
     "output_type": "execute_result"
    }
   ],
   "source": [
    "# 10 most popular movies\n",
    "\n",
    "\n",
    "mp_movies = dat.sort_values(by = 'vote_average', ascending = False)\n",
    "\n",
    "mp_movies.head(10)\n"
   ]
  },
  {
   "cell_type": "code",
   "execution_count": null,
   "id": "d6093746",
   "metadata": {},
   "outputs": [],
   "source": [
    "# bar graph of release_date v popularity\n",
    "\n",
    "\n",
    "sbn.histplot\n",
    "\n"
   ]
  },
  {
   "cell_type": "code",
   "execution_count": null,
   "id": "70b4aba2",
   "metadata": {},
   "outputs": [],
   "source": []
  },
  {
   "cell_type": "code",
   "execution_count": null,
   "id": "d4ab58ba",
   "metadata": {},
   "outputs": [],
   "source": []
  },
  {
   "cell_type": "code",
   "execution_count": null,
   "id": "0e6f0df4",
   "metadata": {},
   "outputs": [],
   "source": []
  },
  {
   "cell_type": "code",
   "execution_count": null,
   "id": "4be3e788",
   "metadata": {},
   "outputs": [],
   "source": []
  },
  {
   "cell_type": "code",
   "execution_count": null,
   "id": "0a9134a4",
   "metadata": {},
   "outputs": [],
   "source": []
  }
 ],
 "metadata": {
  "kernelspec": {
   "display_name": "Python 3 (ipykernel)",
   "language": "python",
   "name": "python3"
  },
  "language_info": {
   "codemirror_mode": {
    "name": "ipython",
    "version": 3
   },
   "file_extension": ".py",
   "mimetype": "text/x-python",
   "name": "python",
   "nbconvert_exporter": "python",
   "pygments_lexer": "ipython3",
   "version": "3.11.4"
  }
 },
 "nbformat": 4,
 "nbformat_minor": 5
}
